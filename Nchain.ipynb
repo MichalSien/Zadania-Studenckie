{
 "cells": [
  {
   "cell_type": "markdown",
   "metadata": {
    "id": "oA8w8uitZwOg"
   },
   "source": [
    "# <center> **Uczenie Maszynowe - Praca Zaliczeniowa**\n",
    "\n",
    "**Pracę wykonał:**\n",
    "> Michał Sienkiewicz <br>\n",
    "Inżynieria Danych <br>\n",
    "Nr indeksu: 134614 <br>\n",
    "Grupa: 2\n",
    "\n",
    "\n",
    "\n",
    "**Temat Pracy:** <br>\n",
    "\n",
    "> *ENTROPIA KRZYŻOWA – rozwiązanie metodą tabelarycznej entropii krzyżowej problemu ze środowiska NChain-v0*\n",
    "\n"
   ]
  },
  {
   "cell_type": "markdown",
   "metadata": {
    "id": "pTk9e6DygdJe"
   },
   "source": [
    "Opis problemu:\n",
    "Gra przedstawia ruch wzdłuż liniowego łańcucha stanów. <br>\n",
    "1. Ruch za akcję wsteczną - otrzymujemy małą nagrodę w postaci +2.0 pkt <br>\n",
    "2. Ruch do przodu nie zwraca żadnej nagrody <br>\n",
    "3. Zakończenie łańcucha i powrót na początek gwarantuje nam \"dużą\" nagrodę w postaci +10 punktów. Nagroda może zostać powtórzona poprzez \"poślizgnienie się\" (szansa 0.2, przejście przeciwne). <br>\n"
   ]
  },
  {
   "cell_type": "code",
   "execution_count": 1,
   "metadata": {
    "colab": {
     "base_uri": "https://localhost:8080/",
     "height": 50
    },
    "id": "A4mxcoyaRv6q",
    "outputId": "a58d7115-7c15-4a26-d1f1-b3390857db9d"
   },
   "outputs": [
    {
     "data": {
      "text/plain": [
       "<Figure size 288x216 with 0 Axes>"
      ]
     },
     "execution_count": 1,
     "metadata": {
      "tags": []
     },
     "output_type": "execute_result"
    },
    {
     "data": {
      "text/plain": [
       "<Figure size 288x216 with 0 Axes>"
      ]
     },
     "metadata": {
      "tags": []
     },
     "output_type": "display_data"
    }
   ],
   "source": [
    "import numpy as np\n",
    "import matplotlib.pyplot as plt\n",
    "import time\n",
    "import gym\n",
    "%matplotlib inline\n",
    "plt.figure(figsize=(4, 3))"
   ]
  },
  {
   "cell_type": "code",
   "execution_count": 2,
   "metadata": {
    "id": "zFhfGLJlRwbD"
   },
   "outputs": [],
   "source": [
    "env = gym.make(\"NChain-v0\")"
   ]
  },
  {
   "cell_type": "code",
   "execution_count": 3,
   "metadata": {
    "colab": {
     "base_uri": "https://localhost:8080/"
    },
    "id": "skDneb2qAWPv",
    "outputId": "6fe5a85e-6d0b-4356-dd7d-b1fbcd748272"
   },
   "outputs": [
    {
     "data": {
      "text/plain": [
       "0"
      ]
     },
     "execution_count": 3,
     "metadata": {
      "tags": []
     },
     "output_type": "execute_result"
    }
   ],
   "source": [
    "env.reset()\n"
   ]
  },
  {
   "cell_type": "code",
   "execution_count": 4,
   "metadata": {
    "colab": {
     "base_uri": "https://localhost:8080/"
    },
    "id": "-plOWhDVAXBL",
    "outputId": "ae55af39-7f6f-4e18-bffb-fc527e3ce31b"
   },
   "outputs": [
    {
     "name": "stdout",
     "output_type": "stream",
     "text": [
      "Action space:  Discrete(2)\n",
      "Observation space:  Discrete(5)\n"
     ]
    }
   ],
   "source": [
    "print(\"Action space: \", env.action_space)\n",
    "print(\"Observation space: \", env.observation_space)"
   ]
  },
  {
   "cell_type": "code",
   "execution_count": 5,
   "metadata": {
    "colab": {
     "base_uri": "https://localhost:8080/"
    },
    "id": "8FOl6DhkXqeF",
    "outputId": "c50f30cf-4df7-4416-93f0-cae468c4d5ae"
   },
   "outputs": [
    {
     "name": "stdout",
     "output_type": "stream",
     "text": [
      "0 0 2 False\n",
      "1 0 2 False\n",
      "2 1 0 False\n",
      "3 0 2 False\n",
      "4 1 0 False\n",
      "5 2 0 False\n",
      "6 0 2 False\n",
      "7 0 2 False\n",
      "8 0 2 False\n",
      "9 0 2 False\n",
      "10 1 0 False\n",
      "11 0 2 False\n",
      "12 0 2 False\n",
      "13 0 2 False\n",
      "14 0 2 False\n",
      "15 1 0 False\n",
      "16 2 0 False\n",
      "17 0 2 False\n",
      "18 1 0 False\n",
      "19 0 2 False\n",
      "20 0 2 False\n",
      "21 1 0 False\n",
      "22 0 2 False\n",
      "23 1 0 False\n",
      "24 2 0 False\n",
      "25 3 0 False\n",
      "26 4 0 False\n",
      "27 0 2 False\n",
      "28 0 2 False\n",
      "29 1 0 False\n",
      "30 0 2 False\n",
      "31 1 0 False\n",
      "32 0 2 False\n",
      "33 0 2 False\n",
      "34 1 0 False\n",
      "35 2 0 False\n",
      "36 0 2 False\n",
      "37 1 0 False\n",
      "38 0 2 False\n",
      "39 0 2 False\n",
      "40 0 2 False\n",
      "41 0 2 False\n",
      "42 0 2 False\n",
      "43 0 2 False\n",
      "44 1 0 False\n",
      "45 2 0 False\n",
      "46 3 0 False\n",
      "47 0 2 False\n",
      "48 1 0 False\n",
      "49 2 0 False\n",
      "50 0 2 False\n",
      "51 1 0 False\n",
      "52 0 2 False\n",
      "53 0 2 False\n",
      "54 0 2 False\n",
      "55 1 0 False\n",
      "56 2 0 False\n",
      "57 3 0 False\n",
      "58 4 0 False\n",
      "59 0 2 False\n",
      "60 0 2 False\n",
      "61 1 0 False\n",
      "62 2 0 False\n",
      "63 0 2 False\n",
      "64 1 0 False\n",
      "65 0 2 False\n",
      "66 1 0 False\n",
      "67 2 0 False\n",
      "68 3 0 False\n",
      "69 0 2 False\n",
      "70 1 0 False\n",
      "71 2 0 False\n",
      "72 0 2 False\n",
      "73 1 0 False\n",
      "74 2 0 False\n",
      "75 0 2 False\n",
      "76 1 0 False\n",
      "77 0 2 False\n",
      "78 0 2 False\n",
      "79 0 2 False\n",
      "80 1 0 False\n",
      "81 0 2 False\n",
      "82 1 0 False\n",
      "83 2 0 False\n",
      "84 0 2 False\n",
      "85 0 2 False\n",
      "86 1 0 False\n",
      "87 2 0 False\n",
      "88 3 0 False\n",
      "89 0 2 False\n",
      "90 1 0 False\n",
      "91 0 2 False\n",
      "92 1 0 False\n",
      "93 0 2 False\n",
      "94 1 0 False\n",
      "95 0 2 False\n",
      "96 1 0 False\n",
      "97 2 0 False\n",
      "98 3 0 False\n",
      "99 0 2 False\n",
      "100 0 2 False\n",
      "101 0 2 False\n",
      "102 1 0 False\n",
      "103 2 0 False\n",
      "104 3 0 False\n",
      "105 4 0 False\n",
      "106 0 2 False\n",
      "107 0 2 False\n",
      "108 0 2 False\n",
      "109 1 0 False\n",
      "110 2 0 False\n",
      "111 3 0 False\n",
      "112 0 2 False\n",
      "113 0 2 False\n",
      "114 0 2 False\n",
      "115 0 2 False\n",
      "116 0 2 False\n",
      "117 1 0 False\n",
      "118 0 2 False\n",
      "119 0 2 False\n",
      "120 1 0 False\n",
      "121 0 2 False\n",
      "122 1 0 False\n",
      "123 0 2 False\n",
      "124 1 0 False\n",
      "125 0 2 False\n",
      "126 0 2 False\n",
      "127 0 2 False\n",
      "128 0 2 False\n",
      "129 0 2 False\n",
      "130 0 2 False\n",
      "131 0 2 False\n",
      "132 1 0 False\n",
      "133 2 0 False\n",
      "134 0 2 False\n",
      "135 0 2 False\n",
      "136 0 2 False\n",
      "137 1 0 False\n",
      "138 2 0 False\n",
      "139 3 0 False\n",
      "140 4 0 False\n",
      "141 0 2 False\n",
      "142 1 0 False\n",
      "143 0 2 False\n",
      "144 0 2 False\n",
      "145 0 2 False\n",
      "146 0 2 False\n",
      "147 1 0 False\n",
      "148 0 2 False\n",
      "149 0 2 False\n",
      "150 0 2 False\n",
      "151 0 2 False\n",
      "152 0 2 False\n",
      "153 0 2 False\n",
      "154 0 2 False\n",
      "155 0 2 False\n",
      "156 1 0 False\n",
      "157 2 0 False\n",
      "158 3 0 False\n",
      "159 0 2 False\n",
      "160 1 0 False\n",
      "161 0 2 False\n",
      "162 0 2 False\n",
      "163 1 0 False\n",
      "164 0 2 False\n",
      "165 1 0 False\n",
      "166 0 2 False\n",
      "167 1 0 False\n",
      "168 2 0 False\n",
      "169 3 0 False\n",
      "170 0 2 False\n",
      "171 1 0 False\n",
      "172 0 2 False\n",
      "173 1 0 False\n",
      "174 0 2 False\n",
      "175 0 2 False\n",
      "176 1 0 False\n",
      "177 2 0 False\n",
      "178 3 0 False\n",
      "179 4 0 False\n",
      "180 4 10 False\n",
      "181 0 2 False\n",
      "182 1 0 False\n",
      "183 2 0 False\n",
      "184 0 2 False\n",
      "185 1 0 False\n",
      "186 0 2 False\n",
      "187 0 2 False\n",
      "188 0 2 False\n",
      "189 0 2 False\n",
      "190 1 0 False\n",
      "191 0 2 False\n",
      "192 1 0 False\n",
      "193 0 2 False\n",
      "194 0 2 False\n",
      "195 1 0 False\n",
      "196 2 0 False\n",
      "197 3 0 False\n",
      "198 4 0 False\n",
      "199 4 10 False\n"
     ]
    }
   ],
   "source": [
    "for t in range(200):\n",
    "  action = env.action_space.sample()\n",
    "  observation, reward, done, info = env.step(action)\n",
    "  print(t, observation, reward, done)"
   ]
  },
  {
   "cell_type": "code",
   "execution_count": 6,
   "metadata": {
    "id": "Gn2T41-OD1tF"
   },
   "outputs": [],
   "source": [
    "for t in range(199):\n",
    "  action = env.action_space.sample()\n",
    "  observation, reward, done, info = env.step(action)\n"
   ]
  },
  {
   "cell_type": "code",
   "execution_count": 7,
   "metadata": {
    "id": "ZqhA4xchF_9b"
   },
   "outputs": [],
   "source": [
    "n_states = env.observation_space.n\n",
    "n_actions = env.action_space.n"
   ]
  },
  {
   "cell_type": "code",
   "execution_count": 8,
   "metadata": {
    "id": "GuhPthZVGDtq"
   },
   "outputs": [],
   "source": [
    "def initialize_policy(n_states, n_actions):\n",
    "  \n",
    "    policy = np.zeros(shape=(n_states, n_actions)) +  1/n_actions\n",
    "    \n",
    "    return policy\n",
    "\n",
    "policy = initialize_policy(n_states, n_actions)"
   ]
  },
  {
   "cell_type": "code",
   "execution_count": 9,
   "metadata": {
    "id": "KG13w88GGKre"
   },
   "outputs": [],
   "source": [
    "def generate_session(env, policy, t_max = 1000):\n",
    "  \n",
    "  observations, actions = [], []\n",
    "  total_reward = 0.\n",
    "  observation = env.reset()\n",
    "  \n",
    "  for t in range(t_max):\n",
    "    \n",
    "    action = np.random.choice(n_actions, p = policy[observation])\n",
    "\n",
    "    new_observation, reward, done, info = env.step(action)\n",
    "\n",
    "    observations.append(observation)\n",
    "    actions.append(action)\n",
    "    total_reward += reward\n",
    "\n",
    "    observation = new_observation\n",
    "    if done:\n",
    "        break\n",
    "\n",
    "  return observations, actions, total_reward"
   ]
  },
  {
   "cell_type": "code",
   "execution_count": 10,
   "metadata": {
    "colab": {
     "base_uri": "https://localhost:8080/"
    },
    "id": "kGanw97nGSY4",
    "outputId": "ec7c28f3-ccca-4490-cfa7-9a8109963b4f"
   },
   "outputs": [
    {
     "data": {
      "text/plain": [
       "(5, 2)"
      ]
     },
     "execution_count": 10,
     "metadata": {
      "tags": []
     },
     "output_type": "execute_result"
    }
   ],
   "source": [
    "policy.shape"
   ]
  },
  {
   "cell_type": "code",
   "execution_count": 11,
   "metadata": {
    "id": "X_JqboI6GxLM"
   },
   "outputs": [],
   "source": [
    "def select_elites(observations_batch, actions_batch, total_reward_batch, percentile):\n",
    "\n",
    "    reward_threshold = np.percentile(total_reward_batch, percentile)\n",
    "\n",
    "    elite_observations = []\n",
    "    elite_actions = []\n",
    "\n",
    "    for i in range(len(total_reward_batch)):\n",
    "      if total_reward_batch[i] >= reward_threshold:\n",
    "        elite_observations += (observations_batch[i])\n",
    "        elite_actions += (actions_batch[i])\n",
    "        \n",
    "    return elite_observations, elite_actions"
   ]
  },
  {
   "cell_type": "code",
   "execution_count": 12,
   "metadata": {
    "id": "Vt74rH95Hzjy"
   },
   "outputs": [],
   "source": [
    "def update_policy(elite_observations, elite_actions):\n",
    "\n",
    "    policy_updated = policy\n",
    "\n",
    "    elite_observations_unique = set(elite_observations)\n",
    "    \n",
    "    actions_count = {observation:[0] * n_actions for observation in elite_observations_unique}\n",
    "\n",
    "    for observation, action in zip(elite_observations, elite_actions):\n",
    "        actions_count[observation][action] += 1\n",
    "        \n",
    " \n",
    "        \n",
    "    for observation in elite_observations_unique:\n",
    "        policy_updated[observation] = np.array(actions_count[observation]) / np.sum(actions_count[observation])\n",
    "\n",
    "    return policy_updated"
   ]
  },
  {
   "cell_type": "code",
   "execution_count": 13,
   "metadata": {
    "id": "u0lLvGFMH8G0"
   },
   "outputs": [],
   "source": [
    "from IPython.display import clear_output\n",
    "\n",
    "def show_progress(rewards_batch, log, percentile):\n",
    "\n",
    "    mean_reward = np.mean(rewards_batch)\n",
    "    threshold = np.percentile(rewards_batch, percentile)\n",
    "    log.append([mean_reward, threshold])\n",
    "    \n",
    "    plt.figure(figsize=[8, 4])\n",
    "    plt.plot(list(zip(*log))[0], label='Mean rewards')\n",
    "    plt.plot(list(zip(*log))[1], label='Reward thresholds')\n",
    "    plt.legend()\n",
    "    plt.grid()\n",
    "\n",
    "    clear_output(True)\n",
    "    print(\"mean reward = \", mean_reward)\n",
    "    print(\"treshold = \", threshold)\n",
    "    plt.show()"
   ]
  },
  {
   "cell_type": "code",
   "execution_count": 14,
   "metadata": {
    "id": "jzg17y-RH9d3"
   },
   "outputs": [],
   "source": [
    "policy = initialize_policy(n_states, n_actions)"
   ]
  },
  {
   "cell_type": "code",
   "execution_count": 15,
   "metadata": {
    "colab": {
     "base_uri": "https://localhost:8080/",
     "height": 298
    },
    "id": "bDFuZZkpH-yZ",
    "outputId": "4c382fa3-7359-4fcf-fed1-3d02d3c56ef7"
   },
   "outputs": [
    {
     "name": "stdout",
     "output_type": "stream",
     "text": [
      "mean reward =  3133.28\n",
      "treshold =  3132.0\n"
     ]
    },
    {
     "data": {
      "image/png": "[encoded data removed]",
      "text/plain": [
       "<Figure size 576x288 with 1 Axes>"
      ]
     },
     "metadata": {
      "needs_background": "light",
      "tags": []
     },
     "output_type": "display_data"
    }
   ],
   "source": [
    "n_sessions = 100\n",
    "percentile = 50\n",
    "learning_rate = 0.5\n",
    "\n",
    "log = []\n",
    "\n",
    "for i in range(100):\n",
    "  \n",
    "    sessions = [generate_session(env, policy, t_max=1000) for j in range(n_sessions)]\n",
    "    \n",
    "    observations_batch, actions_batch, total_reward_batch = zip(*sessions)\n",
    "\n",
    "    elite_observations, elite_actions = select_elites(observations_batch, actions_batch, total_reward_batch, percentile)\n",
    "\n",
    "    policy_updated = update_policy(elite_observations, elite_actions)\n",
    "\n",
    "    policy = learning_rate * policy_updated + (1 - learning_rate) * policy\n",
    "\n",
    "    show_progress(total_reward_batch, log, percentile)"
   ]
  },
  {
   "cell_type": "code",
   "execution_count": 16,
   "metadata": {
    "colab": {
     "base_uri": "https://localhost:8080/"
    },
    "id": "2h-0VwkaIAO-",
    "outputId": "17c2a02b-0796-4973-f8f6-985f00bffce7"
   },
   "outputs": [
    {
     "name": "stdout",
     "output_type": "stream",
     "text": [
      "[[0.48170622 0.51829378]\n",
      " [0.75526445 0.24473555]\n",
      " [0.90875023 0.09124977]\n",
      " [0.98496617 0.01503383]\n",
      " [0.99519544 0.00480456]]\n"
     ]
    }
   ],
   "source": [
    "print(policy)"
   ]
  },
  {
   "cell_type": "code",
   "execution_count": 17,
   "metadata": {
    "colab": {
     "base_uri": "https://localhost:8080/"
    },
    "id": "4Omn9-1rIBzv",
    "outputId": "16ad7825-ccf4-425e-87ac-339afa994952"
   },
   "outputs": [
    {
     "name": "stdout",
     "output_type": "stream",
     "text": [
      "0 0.0 False 1 1\n",
      "1 0.0 False 0 2\n",
      "2 0.0 False 0 3\n",
      "3 0.0 False 0 4\n",
      "4 2.0 False 0 0\n",
      "5 2.0 False 0 1\n",
      "6 2.0 False 0 2\n",
      "7 2.0 False 0 3\n",
      "8 4.0 False 0 0\n",
      "9 4.0 False 1 1\n",
      "10 6.0 False 0 0\n",
      "11 8.0 False 1 0\n",
      "12 10.0 False 0 0\n",
      "13 10.0 False 0 1\n",
      "14 10.0 False 0 2\n",
      "15 10.0 False 0 3\n",
      "16 12.0 False 0 0\n",
      "17 12.0 False 0 1\n",
      "18 12.0 False 1 2\n",
      "19 12.0 False 0 3\n",
      "20 12.0 False 0 4\n",
      "21 22.0 False 0 4\n",
      "22 32.0 False 0 4\n",
      "23 42.0 False 0 4\n",
      "24 52.0 False 0 4\n",
      "25 62.0 False 0 4\n",
      "26 72.0 False 0 4\n",
      "27 82.0 False 0 4\n",
      "28 84.0 False 0 0\n",
      "29 86.0 False 1 0\n",
      "30 86.0 False 1 1\n",
      "31 88.0 False 1 0\n",
      "32 88.0 False 0 1\n",
      "33 88.0 False 0 2\n",
      "34 90.0 False 1 0\n",
      "35 92.0 False 1 0\n",
      "36 94.0 False 1 0\n",
      "37 94.0 False 1 1\n",
      "38 96.0 False 0 0\n",
      "39 96.0 False 0 1\n",
      "40 96.0 False 0 2\n",
      "41 96.0 False 0 3\n",
      "42 96.0 False 0 4\n",
      "43 106.0 False 0 4\n",
      "44 116.0 False 0 4\n",
      "45 126.0 False 0 4\n",
      "46 136.0 False 0 4\n",
      "47 146.0 False 0 4\n",
      "48 148.0 False 0 0\n",
      "49 148.0 False 1 1\n",
      "50 148.0 False 0 2\n",
      "51 148.0 False 0 3\n",
      "52 150.0 False 0 0\n",
      "53 150.0 False 0 1\n",
      "54 150.0 False 0 2\n",
      "55 152.0 False 0 0\n",
      "56 154.0 False 1 0\n",
      "57 154.0 False 0 1\n",
      "58 154.0 False 0 2\n",
      "59 154.0 False 0 3\n",
      "60 154.0 False 0 4\n",
      "61 164.0 False 0 4\n",
      "62 174.0 False 0 4\n",
      "63 184.0 False 0 4\n",
      "64 194.0 False 0 4\n",
      "65 204.0 False 0 4\n",
      "66 214.0 False 0 4\n",
      "67 224.0 False 0 4\n",
      "68 234.0 False 0 4\n",
      "69 244.0 False 0 4\n",
      "70 254.0 False 0 4\n",
      "71 256.0 False 0 0\n",
      "72 258.0 False 1 0\n",
      "73 260.0 False 1 0\n",
      "74 262.0 False 1 0\n",
      "75 262.0 False 0 1\n",
      "76 262.0 False 0 2\n",
      "77 262.0 False 0 3\n",
      "78 264.0 False 0 0\n",
      "79 264.0 False 1 1\n",
      "80 264.0 False 0 2\n",
      "81 264.0 False 0 3\n",
      "82 264.0 False 0 4\n",
      "83 274.0 False 0 4\n",
      "84 276.0 False 0 0\n",
      "85 278.0 False 1 0\n",
      "86 280.0 False 1 0\n",
      "87 280.0 False 0 1\n",
      "88 280.0 False 0 2\n",
      "89 280.0 False 0 3\n",
      "90 280.0 False 0 4\n",
      "91 290.0 False 0 4\n",
      "92 292.0 False 0 0\n",
      "93 292.0 False 0 1\n",
      "94 292.0 False 0 2\n",
      "95 294.0 False 0 0\n",
      "96 294.0 False 0 1\n",
      "97 294.0 False 0 2\n",
      "98 294.0 False 0 3\n",
      "99 296.0 False 0 0\n"
     ]
    }
   ],
   "source": [
    "total_reward = 0.\n",
    "observation = env.reset()\n",
    "\n",
    "for t in range(100):\n",
    "\n",
    "  action = np.random.choice(n_actions, p = policy[observation])\n",
    "  \n",
    "  new_observation, reward, done, info = env.step(action)\n",
    "\n",
    "  observation = new_observation\n",
    "\n",
    "  total_reward += reward\n",
    "  \n",
    "  if done:\n",
    "    break\n",
    "\n",
    "  print(t, total_reward, done, action, observation)\n"
   ]
  },
  {
   "cell_type": "code",
   "execution_count": 17,
   "metadata": {
    "id": "ruWryw0DqKgi"
   },
   "outputs": [],
   "source": []
  }
 ],
 "metadata": {
  "colab": {
   "collapsed_sections": [],
   "name": "Michał_Sienkiewicz_PracaZaliczeniowa_Grupa2_NChain.ipynb",
   "provenance": []
  },
  "kernelspec": {
   "display_name": "Python 3",
   "language": "python",
   "name": "python3"
  },
  "language_info": {
   "codemirror_mode": {
    "name": "ipython",
    "version": 3
   },
   "file_extension": ".py",
   "mimetype": "text/x-python",
   "name": "python",
   "nbconvert_exporter": "python",
   "pygments_lexer": "ipython3",
   "version": "3.9.12"
  }
 },
 "nbformat": 4,
 "nbformat_minor": 1
}
